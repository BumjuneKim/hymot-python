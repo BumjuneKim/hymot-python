{
  "nbformat": 4,
  "nbformat_minor": 0,
  "metadata": {
    "colab": {
      "provenance": [],
      "authorship_tag": "ABX9TyPWNzxVfhkIPq8cbWvsnUxC",
      "include_colab_link": true
    },
    "kernelspec": {
      "name": "python3",
      "display_name": "Python 3"
    },
    "language_info": {
      "name": "python"
    }
  },
  "cells": [
    {
      "cell_type": "markdown",
      "metadata": {
        "id": "view-in-github",
        "colab_type": "text"
      },
      "source": [
        "<a href=\"https://colab.research.google.com/github/BumjuneKim/hymot-python/blob/main/week10/week10_assignment.ipynb\" target=\"_parent\"><img src=\"https://colab.research.google.com/assets/colab-badge.svg\" alt=\"Open In Colab\"/></a>"
      ]
    },
    {
      "cell_type": "code",
      "execution_count": 3,
      "metadata": {
        "colab": {
          "base_uri": "https://localhost:8080/"
        },
        "id": "BIfla8MBem1f",
        "outputId": "08593d53-f861-44d0-96f3-ca71cbeffe41"
      },
      "outputs": [
        {
          "output_type": "stream",
          "name": "stdout",
          "text": [
            "3\n",
            "7\n",
            "12\n"
          ]
        }
      ],
      "source": [
        "result = 0\n",
        "def adder(num):\n",
        "  global result\n",
        "  result += num\n",
        "  return result\n",
        "\n",
        "print(adder(3))\n",
        "print(adder(4))\n",
        "print(adder(5))\n"
      ]
    },
    {
      "cell_type": "code",
      "source": [
        "result1 = 0\n",
        "result2 = 0\n",
        "\n",
        "def adder1(num):\n",
        "  global result1\n",
        "  result1 += num\n",
        "  return result1\n",
        "\n",
        "def adder2(num):\n",
        "  global result2\n",
        "  result2 += num\n",
        "  return result2\n",
        "\n",
        "print(adder1(3))\n",
        "print(adder1(4))\n",
        "print(adder2(3))\n",
        "print(adder2(7))\n"
      ],
      "metadata": {
        "colab": {
          "base_uri": "https://localhost:8080/"
        },
        "id": "dlO8OpEtfAKY",
        "outputId": "d40737af-f439-4a29-8860-de931f166c7f"
      },
      "execution_count": 4,
      "outputs": [
        {
          "output_type": "stream",
          "name": "stdout",
          "text": [
            "3\n",
            "7\n",
            "3\n",
            "10\n"
          ]
        }
      ]
    },
    {
      "cell_type": "code",
      "source": [
        "class Calculator:\n",
        "  def __init__(self):\n",
        "    self.result = 0\n",
        "\n",
        "  def adder(self, num):\n",
        "    self.result += num\n",
        "    return self.result\n",
        "\n",
        "cal1 = Calculator()\n",
        "cal2 = Calculator()\n",
        "\n",
        "print(cal1.adder(3))\n",
        "print(cal1.adder(4))\n",
        "print(cal2.adder(3))\n",
        "print(cal2.adder(7))"
      ],
      "metadata": {
        "colab": {
          "base_uri": "https://localhost:8080/"
        },
        "id": "DWRMWM7JfPGC",
        "outputId": "e1c75516-11b7-4daa-c4ee-c604975dc266"
      },
      "execution_count": 5,
      "outputs": [
        {
          "output_type": "stream",
          "name": "stdout",
          "text": [
            "3\n",
            "7\n",
            "3\n",
            "10\n"
          ]
        }
      ]
    },
    {
      "cell_type": "code",
      "source": [
        "class Service:\n",
        "  secret = '지구는 4006년에 멸망한다.'\n",
        "\n",
        "an = Service()\n",
        "\n",
        "an.secret\n",
        "\n",
        "Service.secret\n",
        "Service.secret = '지구가 4006년에 멸망한다는 사실은 뻥이다.'\n",
        "\n",
        "print(an.secret)"
      ],
      "metadata": {
        "colab": {
          "base_uri": "https://localhost:8080/"
        },
        "id": "8qWsSolVfkD8",
        "outputId": "47f4a18c-6579-4877-cf57-aa6984289ef2"
      },
      "execution_count": 8,
      "outputs": [
        {
          "output_type": "stream",
          "name": "stdout",
          "text": [
            "지구가 4006년에 멸망한다는 사실은 뻥이다.\n"
          ]
        }
      ]
    },
    {
      "cell_type": "code",
      "source": [
        "class Service:\n",
        "  secret = '지구는 4006년에 멸망한다.'\n",
        "  def sum(self, a, b):\n",
        "    result = a + b\n",
        "    print('%s + %s = %s이다.' % (a, b, result))\n",
        "\n",
        "an = Service()\n",
        "an.sum(1, 1)"
      ],
      "metadata": {
        "colab": {
          "base_uri": "https://localhost:8080/"
        },
        "id": "2pYDe8uWf5NF",
        "outputId": "4e575c75-0f88-403c-94fe-b8af1da4c8d8"
      },
      "execution_count": 9,
      "outputs": [
        {
          "output_type": "stream",
          "name": "stdout",
          "text": [
            "1 + 1 = 2이다.\n"
          ]
        }
      ]
    },
    {
      "cell_type": "code",
      "source": [
        "class Service:\n",
        "  secret = '지구는 4006년에 멸망한다.'\n",
        "  def setname(self, name):\n",
        "    self.name = name\n",
        "  def sum(self, a, b):\n",
        "    result = a + b\n",
        "    print('%s님, %s + %s = %s이다.' % (self.name, a, b, result))\n",
        "\n",
        "an = Service()\n",
        "an.setname(\"kbj\")\n",
        "an.sum(1, 1)\n",
        "\n",
        "kim = Service()\n",
        "park = Service()\n",
        "kim.name = '김범준'\n",
        "park.name = '박통통'\n",
        "\n",
        "print(kim.name)\n",
        "print(park.name)\n",
        "\n",
        "kim.secret = '비밀은 없다.'\n",
        "print(park.secret)\n",
        "\n",
        "print(kim.secret)\n",
        "Service.secret"
      ],
      "metadata": {
        "colab": {
          "base_uri": "https://localhost:8080/",
          "height": 125
        },
        "id": "6CFcMin0gMq5",
        "outputId": "72c14570-9896-4df0-e185-6d49e48fdaaa"
      },
      "execution_count": 13,
      "outputs": [
        {
          "output_type": "stream",
          "name": "stdout",
          "text": [
            "kbj님, 1 + 1 = 2이다.\n",
            "김범준\n",
            "박통통\n",
            "지구는 4006년에 멸망한다.\n",
            "비밀은 없다.\n"
          ]
        },
        {
          "output_type": "execute_result",
          "data": {
            "text/plain": [
              "'지구는 4006년에 멸망한다.'"
            ],
            "application/vnd.google.colaboratory.intrinsic+json": {
              "type": "string"
            }
          },
          "metadata": {},
          "execution_count": 13
        }
      ]
    },
    {
      "cell_type": "code",
      "source": [
        "class Service:\n",
        "  secret = '지구는 4006년에 멸망한다.'\n",
        "  def setname(self, name):\n",
        "    self.name = name\n",
        "  def sum(self, a, b):\n",
        "    result = a + b\n",
        "    print('%s님, %s + %s = %s이다.' % (self.name, a, b, result))\n",
        "\n",
        "\n",
        "lee = Service()\n",
        "lee.sum(1, 1)"
      ],
      "metadata": {
        "colab": {
          "base_uri": "https://localhost:8080/",
          "height": 305
        },
        "id": "pSvTJ8S7g5f_",
        "outputId": "704853f8-cc51-44f8-b278-ebb2421aae81"
      },
      "execution_count": 14,
      "outputs": [
        {
          "output_type": "error",
          "ename": "AttributeError",
          "evalue": "'Service' object has no attribute 'name'",
          "traceback": [
            "\u001b[0;31m---------------------------------------------------------------------------\u001b[0m",
            "\u001b[0;31mAttributeError\u001b[0m                            Traceback (most recent call last)",
            "\u001b[0;32m<ipython-input-14-48253685312a>\u001b[0m in \u001b[0;36m<cell line: 0>\u001b[0;34m()\u001b[0m\n\u001b[1;32m      9\u001b[0m \u001b[0;34m\u001b[0m\u001b[0m\n\u001b[1;32m     10\u001b[0m \u001b[0mlee\u001b[0m \u001b[0;34m=\u001b[0m \u001b[0mService\u001b[0m\u001b[0;34m(\u001b[0m\u001b[0;34m)\u001b[0m\u001b[0;34m\u001b[0m\u001b[0;34m\u001b[0m\u001b[0m\n\u001b[0;32m---> 11\u001b[0;31m \u001b[0mlee\u001b[0m\u001b[0;34m.\u001b[0m\u001b[0msum\u001b[0m\u001b[0;34m(\u001b[0m\u001b[0;36m1\u001b[0m\u001b[0;34m,\u001b[0m \u001b[0;36m1\u001b[0m\u001b[0;34m)\u001b[0m\u001b[0;34m\u001b[0m\u001b[0;34m\u001b[0m\u001b[0m\n\u001b[0m",
            "\u001b[0;32m<ipython-input-14-48253685312a>\u001b[0m in \u001b[0;36msum\u001b[0;34m(self, a, b)\u001b[0m\n\u001b[1;32m      5\u001b[0m   \u001b[0;32mdef\u001b[0m \u001b[0msum\u001b[0m\u001b[0;34m(\u001b[0m\u001b[0mself\u001b[0m\u001b[0;34m,\u001b[0m \u001b[0ma\u001b[0m\u001b[0;34m,\u001b[0m \u001b[0mb\u001b[0m\u001b[0;34m)\u001b[0m\u001b[0;34m:\u001b[0m\u001b[0;34m\u001b[0m\u001b[0;34m\u001b[0m\u001b[0m\n\u001b[1;32m      6\u001b[0m     \u001b[0mresult\u001b[0m \u001b[0;34m=\u001b[0m \u001b[0ma\u001b[0m \u001b[0;34m+\u001b[0m \u001b[0mb\u001b[0m\u001b[0;34m\u001b[0m\u001b[0;34m\u001b[0m\u001b[0m\n\u001b[0;32m----> 7\u001b[0;31m     \u001b[0mprint\u001b[0m\u001b[0;34m(\u001b[0m\u001b[0;34m'%s님, %s + %s = %s이다.'\u001b[0m \u001b[0;34m%\u001b[0m \u001b[0;34m(\u001b[0m\u001b[0mself\u001b[0m\u001b[0;34m.\u001b[0m\u001b[0mname\u001b[0m\u001b[0;34m,\u001b[0m \u001b[0ma\u001b[0m\u001b[0;34m,\u001b[0m \u001b[0mb\u001b[0m\u001b[0;34m,\u001b[0m \u001b[0mresult\u001b[0m\u001b[0;34m)\u001b[0m\u001b[0;34m)\u001b[0m\u001b[0;34m\u001b[0m\u001b[0;34m\u001b[0m\u001b[0m\n\u001b[0m\u001b[1;32m      8\u001b[0m \u001b[0;34m\u001b[0m\u001b[0m\n\u001b[1;32m      9\u001b[0m \u001b[0;34m\u001b[0m\u001b[0m\n",
            "\u001b[0;31mAttributeError\u001b[0m: 'Service' object has no attribute 'name'"
          ]
        }
      ]
    },
    {
      "cell_type": "code",
      "source": [
        "class Service:\n",
        "  secret = '지구는 4006년에 멸망한다.'\n",
        "  def __init__(self, name):\n",
        "    self.name = name\n",
        "  # def setname(self, name):\n",
        "    # self.name = name\n",
        "  def sum(self, a, b):\n",
        "    result = a + b\n",
        "    print('%s님, %s + %s = %s이다.' % (self.name, a, b, result))\n",
        "\n",
        "\n",
        "lee = Service('박달도사')\n",
        "lee.sum(1, 1)"
      ],
      "metadata": {
        "colab": {
          "base_uri": "https://localhost:8080/"
        },
        "id": "GltzTvUdhFUT",
        "outputId": "91005c99-a68d-4e53-fb28-1e30126fca46"
      },
      "execution_count": 16,
      "outputs": [
        {
          "output_type": "stream",
          "name": "stdout",
          "text": [
            "박달도사님, 1 + 1 = 2이다.\n"
          ]
        }
      ]
    },
    {
      "cell_type": "code",
      "source": [
        "class FourCal:\n",
        "  pass\n",
        "\n",
        "a = FourCal()\n",
        "type(a)"
      ],
      "metadata": {
        "colab": {
          "base_uri": "https://localhost:8080/"
        },
        "id": "gAEZCIMPhM0y",
        "outputId": "4cd5897c-2047-48bd-9939-de250c3687d0"
      },
      "execution_count": 17,
      "outputs": [
        {
          "output_type": "execute_result",
          "data": {
            "text/plain": [
              "__main__.FourCal"
            ]
          },
          "metadata": {},
          "execution_count": 17
        }
      ]
    },
    {
      "cell_type": "code",
      "source": [
        "class FourCal:\n",
        "  def setdata(self, first, second):\n",
        "    self.first = first\n",
        "    self.second = second\n",
        "\n",
        "a = FourCal()\n",
        "a.setdata(4, 2)\n",
        "print(a.first)\n",
        "print(a.second)"
      ],
      "metadata": {
        "colab": {
          "base_uri": "https://localhost:8080/"
        },
        "id": "t0tUafSNhUbt",
        "outputId": "0eadf63d-6ceb-45d2-8abe-53529df66cbc"
      },
      "execution_count": 18,
      "outputs": [
        {
          "output_type": "stream",
          "name": "stdout",
          "text": [
            "4\n",
            "2\n"
          ]
        }
      ]
    },
    {
      "cell_type": "code",
      "source": [
        "class FourCal:\n",
        "  def setdata(self, first, second):\n",
        "    self.first = first\n",
        "    self.second = second\n",
        "  def sum(self):\n",
        "    result = self.first + self.second\n",
        "    return result\n",
        "\n",
        "a = FourCal()\n",
        "a.setdata(4, 2)\n",
        "print(a.sum())"
      ],
      "metadata": {
        "colab": {
          "base_uri": "https://localhost:8080/"
        },
        "id": "JHosm6LahhRI",
        "outputId": "1e38cc52-e922-44ce-b8f4-36690632852e"
      },
      "execution_count": 19,
      "outputs": [
        {
          "output_type": "stream",
          "name": "stdout",
          "text": [
            "6\n"
          ]
        }
      ]
    },
    {
      "cell_type": "code",
      "source": [
        "class FourCal:\n",
        "  def setdata(self, first, second):\n",
        "    self.first = first\n",
        "    self.second = second\n",
        "  def sum(self):\n",
        "    result = self.first + self.second\n",
        "    return result\n",
        "  def mul(self):\n",
        "    result = self.first * self.second\n",
        "    return result\n",
        "  def sub(self):\n",
        "    result = self.first - self.second\n",
        "    return result\n",
        "  def div(self):\n",
        "    result = self.first / self.second\n",
        "    return result\n",
        "\n",
        "a = FourCal()\n",
        "b = FourCal()\n",
        "a.setdata(4, 2)\n",
        "b.setdata(3, 7)\n",
        "\n",
        "print(a.sum())\n",
        "print(a.mul())\n",
        "print(a.sub())\n",
        "print(a.div())\n",
        "print(b.sub())"
      ],
      "metadata": {
        "colab": {
          "base_uri": "https://localhost:8080/"
        },
        "id": "vYlHagOshrvB",
        "outputId": "9d182927-f9a2-4587-fc06-9860afdcf158"
      },
      "execution_count": 20,
      "outputs": [
        {
          "output_type": "stream",
          "name": "stdout",
          "text": [
            "6\n",
            "8\n",
            "2\n",
            "2.0\n",
            "-4\n"
          ]
        }
      ]
    },
    {
      "cell_type": "code",
      "source": [
        "import random\n",
        "\n",
        "player1_dice = []\n",
        "player2_dice = []\n",
        "\n",
        "for i in range(3):\n",
        "  player1_dice.append(random.randint(1, 6))\n",
        "  player2_dice.append(random.randint(1, 6))\n",
        "\n",
        "print('player 1 rolled' + str(player1_dice))\n",
        "print('player 2 rolled' + str(player2_dice))\n",
        "\n",
        "if sum(player1_dice) == sum(player2_dice):\n",
        "  print(\"Draw\")\n",
        "elif sum(player1_dice) > sum(player2_dice):\n",
        "  print('player 1 wins')\n",
        "else:\n",
        "  print('player 2 wins')"
      ],
      "metadata": {
        "colab": {
          "base_uri": "https://localhost:8080/"
        },
        "id": "tVYXhOZSiQ08",
        "outputId": "edbe23ea-7a27-4aa2-fdba-fb4298d20075"
      },
      "execution_count": 21,
      "outputs": [
        {
          "output_type": "stream",
          "name": "stdout",
          "text": [
            "player 1 rolled[2, 5, 1]\n",
            "player 2 rolled[5, 3, 5]\n",
            "player 2 wins\n"
          ]
        }
      ]
    },
    {
      "cell_type": "code",
      "source": [
        "from random import randint\n",
        "\n",
        "class Player:\n",
        "  def __init__(self):\n",
        "    self.dice = []\n",
        "\n",
        "  def roll(self):\n",
        "    self.dice = []\n",
        "    for i in range(3):\n",
        "      self.dice.append(randint(1, 6))\n",
        "\n",
        "  def get_dice(self):\n",
        "    return self.dice\n",
        "\n",
        "player1 = Player()\n",
        "player2 = Player()\n",
        "\n",
        "player1.roll()\n",
        "player2.roll()\n",
        "\n",
        "# player1_dice = []\n",
        "# player2_dice = []\n",
        "\n",
        "# for i in range(3):\n",
        "  # player1_dice.append(random.randint(1, 6))\n",
        "  # player2_dice.append(random.randint(1, 6))\n",
        "\n",
        "print('player 1 rolled' + str(player1.get_dice()))\n",
        "print('player 2 rolled' + str(player2.get_dice()))\n",
        "\n",
        "if sum(player1.get_dice()) == sum(player2.get_dice()):\n",
        "  print(\"Draw\")\n",
        "elif sum(player1.get_dice()) > sum(player2.get_dice()):\n",
        "  print('player 1 wins')\n",
        "else:\n",
        "  print('player 2 wins')"
      ],
      "metadata": {
        "colab": {
          "base_uri": "https://localhost:8080/"
        },
        "id": "XdRpAF_8i1Qz",
        "outputId": "6036ea31-f33b-479c-9609-c4bda79c8789"
      },
      "execution_count": 23,
      "outputs": [
        {
          "output_type": "stream",
          "name": "stdout",
          "text": [
            "player 1 rolled[3, 6, 1]\n",
            "player 2 rolled[6, 1, 4]\n",
            "player 2 wins\n"
          ]
        }
      ]
    }
  ]
}